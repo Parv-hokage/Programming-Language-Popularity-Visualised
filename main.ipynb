{
 "cells": [
  {
   "metadata": {},
   "cell_type": "code",
   "source": [
    "import pandas as pd\n",
    "import matplotlib.pyplot as plt\n",
    "df = pd.read_csv(\"QueryResults.csv\", names=['DATE', 'TAG', 'POSTS'], header=0)\n",
    "df['DATE'] = pd.to_datetime(df['DATE'])\n",
    "clean_df = df.dropna()\n",
    "new_df = clean_df.pivot(index='DATE', columns='TAG', values='POSTS')\n",
    "a = new_df.fillna(0)\n",
    "smooth_df = a.rolling(window=3).mean()\n",
    "plt.figure(figsize=(32,20))\n",
    "list_of_lang = df.TAG.unique().tolist()\n",
    "for lang in list_of_lang:\n",
    "    plt.plot(smooth_df.index, smooth_df[lang], label= lang)\n",
    "plt.title(\"Programming Language Popularity Over Time\")\n",
    "plt.xlabel(\"Date\", fontsize=28)\n",
    "plt.ylabel(\"Number of Posts\", fontsize=28)\n",
    "plt.xticks(fontsize=28)\n",
    "plt.yticks(fontsize=28)\n",
    "plt.legend(fontsize= 32)\n",
    "plt.grid(True)\n",
    "plt.show()\n",
    "\n",
    "\n"
   ],
   "id": "f37ddd618444a93a",
   "outputs": [],
   "execution_count": null
  }
 ],
 "metadata": {
  "kernelspec": {
   "display_name": "Python 3",
   "language": "python",
   "name": "python3"
  },
  "language_info": {
   "codemirror_mode": {
    "name": "ipython",
    "version": 2
   },
   "file_extension": ".py",
   "mimetype": "text/x-python",
   "name": "python",
   "nbconvert_exporter": "python",
   "pygments_lexer": "ipython2",
   "version": "2.7.6"
  }
 },
 "nbformat": 4,
 "nbformat_minor": 5
}
